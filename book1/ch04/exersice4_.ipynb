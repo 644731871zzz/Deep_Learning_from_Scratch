{
 "cells": [
  {
   "cell_type": "code",
   "execution_count": 10,
   "id": "519f2fa6-b34c-4b91-bc22-926e44737a45",
   "metadata": {},
   "outputs": [],
   "source": [
    "import numpy as np"
   ]
  },
  {
   "cell_type": "code",
   "execution_count": 12,
   "id": "fcf460c2-b610-49b1-a8f9-4c30c2dfa779",
   "metadata": {},
   "outputs": [],
   "source": [
    "def mean_squared_error(y,t):\n",
    "    return 0.5*np.sum((y-t)**2)"
   ]
  },
  {
   "cell_type": "code",
   "execution_count": 14,
   "id": "7afbd977-0168-4d18-b156-d1e5fd2a0021",
   "metadata": {},
   "outputs": [],
   "source": [
    "t = [0,0,1,0,0,0,0,0,0,0]"
   ]
  },
  {
   "cell_type": "code",
   "execution_count": 16,
   "id": "87e9775c-6bf5-4dd1-895e-a58ae41639a2",
   "metadata": {},
   "outputs": [],
   "source": [
    "y = [0.1,0.05,0.6,0.0,0.05,0.1,0.0,0.1,0.0,0.0]"
   ]
  },
  {
   "cell_type": "code",
   "execution_count": 18,
   "id": "c2c008b8-4261-40d3-a11a-d90bf4c5bdf3",
   "metadata": {},
   "outputs": [
    {
     "data": {
      "text/plain": [
       "0.09750000000000003"
      ]
     },
     "execution_count": 18,
     "metadata": {},
     "output_type": "execute_result"
    }
   ],
   "source": [
    "mean_squared_error(np.array(y),np.array(t))"
   ]
  },
  {
   "cell_type": "code",
   "execution_count": 20,
   "id": "7f4b5be3-7567-4105-84dd-267afaeacb76",
   "metadata": {},
   "outputs": [],
   "source": [
    "y = [0.1,0.05,0.1,0.0,0.05,0.1,0.0,0.6,0.0,0.0]"
   ]
  },
  {
   "cell_type": "code",
   "execution_count": 22,
   "id": "9115e6f8-46a6-42a1-8f07-fd1db6d00e03",
   "metadata": {},
   "outputs": [
    {
     "data": {
      "text/plain": [
       "0.5975"
      ]
     },
     "execution_count": 22,
     "metadata": {},
     "output_type": "execute_result"
    }
   ],
   "source": [
    "mean_squared_error(np.array(y),np.array(t))"
   ]
  },
  {
   "cell_type": "code",
   "execution_count": null,
   "id": "14a9312c-b778-4e5c-82de-2d7e1371d6aa",
   "metadata": {},
   "outputs": [],
   "source": []
  },
  {
   "cell_type": "code",
   "execution_count": 25,
   "id": "ac8f4d72-3d65-439b-a4e4-d89f91d986a0",
   "metadata": {},
   "outputs": [],
   "source": [
    "def cross_entropy_error(y,t):\n",
    "    delta = 1e-7 #加一个微小值防止log(0)输出-inf\n",
    "    return - np.sum(t*np.log(y+delta))"
   ]
  },
  {
   "cell_type": "code",
   "execution_count": 27,
   "id": "6502729b-9a47-48cd-b6f7-b206c2a38d77",
   "metadata": {},
   "outputs": [],
   "source": [
    "t = [0,0,1,0,0,0,0,0,0,0]"
   ]
  },
  {
   "cell_type": "code",
   "execution_count": 29,
   "id": "423fe90f-d80b-4bfb-b92a-ff1ec77241e9",
   "metadata": {},
   "outputs": [],
   "source": [
    "y = [0.1,0.05,0.6,0.0,0.05,0.1,0.0,0.1,0.0,0.0]"
   ]
  },
  {
   "cell_type": "code",
   "execution_count": 31,
   "id": "08df433d-f6e8-4e46-9faa-45751002349f",
   "metadata": {},
   "outputs": [
    {
     "data": {
      "text/plain": [
       "0.510825457099338"
      ]
     },
     "execution_count": 31,
     "metadata": {},
     "output_type": "execute_result"
    }
   ],
   "source": [
    "cross_entropy_error(np.array(y),np.array(t))"
   ]
  },
  {
   "cell_type": "code",
   "execution_count": 33,
   "id": "3b51aee6-7dc3-4897-b717-3044963002d4",
   "metadata": {},
   "outputs": [],
   "source": [
    "y = [0.1,0.05,0.1,0.0,0.05,0.1,0.0,0.6,0.0,0.0]"
   ]
  },
  {
   "cell_type": "code",
   "execution_count": 35,
   "id": "a608abfa-2688-4f7b-a5f3-39d5dabe87af",
   "metadata": {},
   "outputs": [
    {
     "data": {
      "text/plain": [
       "2.302584092994546"
      ]
     },
     "execution_count": 35,
     "metadata": {},
     "output_type": "execute_result"
    }
   ],
   "source": [
    "cross_entropy_error(np.array(y),np.array(t))"
   ]
  },
  {
   "cell_type": "code",
   "execution_count": 37,
   "id": "5292a446-a202-4fee-9f96-bb114455e1b3",
   "metadata": {},
   "outputs": [],
   "source": [
    "#不好的例子"
   ]
  },
  {
   "cell_type": "code",
   "execution_count": 39,
   "id": "8fd239af-0beb-4115-8e57-15ded5f44ffa",
   "metadata": {},
   "outputs": [],
   "source": [
    "def numeriacl_diff(f,x):\n",
    "    h = 10e-15\n",
    "    return (f(x+h) - f(x)) / h"
   ]
  },
  {
   "cell_type": "code",
   "execution_count": 41,
   "id": "7affded6-5fad-4215-98b1-e47aad0e53ed",
   "metadata": {},
   "outputs": [
    {
     "data": {
      "text/plain": [
       "0.0"
      ]
     },
     "execution_count": 41,
     "metadata": {},
     "output_type": "execute_result"
    }
   ],
   "source": [
    "np.float32(1e-50) #舍入误差"
   ]
  },
  {
   "cell_type": "code",
   "execution_count": 43,
   "id": "1307d831-5ab2-49ce-9e64-5dfc62fa04c8",
   "metadata": {},
   "outputs": [],
   "source": [
    "#中心差分"
   ]
  },
  {
   "cell_type": "code",
   "execution_count": 45,
   "id": "d59b8e6b-0f98-4bf6-8051-07fcdf10c097",
   "metadata": {},
   "outputs": [],
   "source": [
    "def numerical_diff(f,x):\n",
    "    h = 1e-4 # 0.0001\n",
    "    return (f(x+h) - f(x-h))/(2*h)"
   ]
  },
  {
   "cell_type": "code",
   "execution_count": null,
   "id": "07a1beb2-35bf-4659-a14b-d54746c78157",
   "metadata": {},
   "outputs": [],
   "source": []
  },
  {
   "cell_type": "code",
   "execution_count": 48,
   "id": "b6888f6f-3233-4427-a2cc-3207ae1403ec",
   "metadata": {},
   "outputs": [],
   "source": [
    "def function_1(x):\n",
    "    return 0.01*x**2 + 0.1*x"
   ]
  },
  {
   "cell_type": "code",
   "execution_count": 50,
   "id": "a0eeffa6-b553-4427-8fe0-0f285ac3d4fa",
   "metadata": {},
   "outputs": [],
   "source": [
    "import numpy as np\n",
    "import matplotlib.pyplot as plt"
   ]
  },
  {
   "cell_type": "code",
   "execution_count": 51,
   "id": "ae92ee04-1487-4d81-a3f6-b77237f2d29f",
   "metadata": {},
   "outputs": [],
   "source": [
    "x = np.arange(0.0,20.0,0.1)\n",
    "y = function_1(x)"
   ]
  },
  {
   "cell_type": "code",
   "execution_count": 54,
   "id": "e3d91dd6-d1d5-4aab-85e4-aa8860c4b604",
   "metadata": {},
   "outputs": [
    {
     "data": {
      "image/png": "[encoded data removed]",
      "text/plain": [
       "<Figure size 640x480 with 1 Axes>"
      ]
     },
     "metadata": {},
     "output_type": "display_data"
    }
   ],
   "source": [
    "plt.xlabel('x')\n",
    "plt.ylabel('f(x)')\n",
    "plt.plot(x,y)\n",
    "plt.show()"
   ]
  },
  {
   "cell_type": "code",
   "execution_count": 56,
   "id": "e8d0ffab-788a-419d-bf1e-74c718e44ac9",
   "metadata": {},
   "outputs": [],
   "source": [
    "#计算x = 5,x = 10的对应位置的导数"
   ]
  },
  {
   "cell_type": "code",
   "execution_count": 58,
   "id": "ae6dc282-8b9b-402b-937e-e373f50e1cd4",
   "metadata": {},
   "outputs": [
    {
     "data": {
      "text/plain": [
       "0.1999999999990898"
      ]
     },
     "execution_count": 58,
     "metadata": {},
     "output_type": "execute_result"
    }
   ],
   "source": [
    "numerical_diff(function_1,5)"
   ]
  },
  {
   "cell_type": "code",
   "execution_count": 60,
   "id": "241e26f9-7407-4e74-965c-b38bddede88e",
   "metadata": {},
   "outputs": [
    {
     "data": {
      "text/plain": [
       "0.2999999999986347"
      ]
     },
     "execution_count": 60,
     "metadata": {},
     "output_type": "execute_result"
    }
   ],
   "source": [
    "numerical_diff(function_1,10)"
   ]
  },
  {
   "cell_type": "code",
   "execution_count": 62,
   "id": "924637d5-6a3f-412b-8d74-91b64c2a44a3",
   "metadata": {},
   "outputs": [],
   "source": [
    "def function_2(x):\n",
    "    return x[0]**2 + x[1]**2"
   ]
  },
  {
   "cell_type": "code",
   "execution_count": 64,
   "id": "ca9970ef-5720-41aa-af20-2a5724df4a6b",
   "metadata": {},
   "outputs": [],
   "source": [
    "def function_tmp1(x0):\n",
    "    return x0*x0 + 4.0**2.0"
   ]
  },
  {
   "cell_type": "code",
   "execution_count": 71,
   "id": "18fa2900-db97-4444-bd15-ec9a852ffe2c",
   "metadata": {},
   "outputs": [
    {
     "data": {
      "text/plain": [
       "6.00000000000378"
      ]
     },
     "execution_count": 71,
     "metadata": {},
     "output_type": "execute_result"
    }
   ],
   "source": [
    "numerical_diff(function_tmp1,3.0)"
   ]
  },
  {
   "cell_type": "code",
   "execution_count": 73,
   "id": "4c500926-ec1e-4b13-a5d7-4c9e32b1cacb",
   "metadata": {},
   "outputs": [],
   "source": [
    "def function_tmp2(x1):\n",
    "    return 3.0**2.0 + x1*x1"
   ]
  },
  {
   "cell_type": "code",
   "execution_count": 77,
   "id": "503d3790-fa13-4b4c-85e0-838adf679eb4",
   "metadata": {},
   "outputs": [
    {
     "data": {
      "text/plain": [
       "7.999999999999119"
      ]
     },
     "execution_count": 77,
     "metadata": {},
     "output_type": "execute_result"
    }
   ],
   "source": [
    "numerical_diff(function_tmp2,4.0)"
   ]
  },
  {
   "cell_type": "code",
   "execution_count": 79,
   "id": "9f6ada01-7f20-48d3-8e40-5a52caee125b",
   "metadata": {},
   "outputs": [],
   "source": [
    "def numerical_gradient(f,x):\n",
    "    h = 1e-4\n",
    "    grad = np.zeros_like(x) #生成和x形状相同的0数组\n",
    "\n",
    "    for idx in range(x.size):\n",
    "        tmp_val = x[idx]\n",
    "        \n",
    "        x[idx] = tmp_val+h\n",
    "        fxh1 = f(x)\n",
    "\n",
    "        x[idx] = tmp_val - h\n",
    "        fxh2 = f(x)\n",
    "\n",
    "        grad[idx] = (fxh1 - fxh2) / (2*h)\n",
    "        x[idx] = tmp_val#还原值\n",
    "    return grad"
   ]
  },
  {
   "cell_type": "code",
   "execution_count": 81,
   "id": "649f6adc-fe56-48d4-a882-a8788e22ebed",
   "metadata": {},
   "outputs": [
    {
     "data": {
      "text/plain": [
       "array([6., 8.])"
      ]
     },
     "execution_count": 81,
     "metadata": {},
     "output_type": "execute_result"
    }
   ],
   "source": [
    "numerical_gradient(function_2,np.array([3.0,4.0]))\n",
    "#输出为易读模式,值与上面相同"
   ]
  },
  {
   "cell_type": "code",
   "execution_count": 83,
   "id": "c2f963f9-ba33-46fb-a769-80d15fe83526",
   "metadata": {},
   "outputs": [
    {
     "data": {
      "text/plain": [
       "array([0., 4.])"
      ]
     },
     "execution_count": 83,
     "metadata": {},
     "output_type": "execute_result"
    }
   ],
   "source": [
    "numerical_gradient(function_2,np.array([0.0,2.0]))"
   ]
  },
  {
   "cell_type": "code",
   "execution_count": 85,
   "id": "04f3cb9d-1de1-4126-9d4a-1d09a097cae4",
   "metadata": {},
   "outputs": [
    {
     "data": {
      "text/plain": [
       "array([6., 0.])"
      ]
     },
     "execution_count": 85,
     "metadata": {},
     "output_type": "execute_result"
    }
   ],
   "source": [
    "numerical_gradient(function_2,np.array([3.0,0.0]))"
   ]
  },
  {
   "cell_type": "code",
   "execution_count": null,
   "id": "b4ed1db5-d3a8-4326-8e0e-d0673b067d09",
   "metadata": {},
   "outputs": [],
   "source": []
  },
  {
   "cell_type": "code",
   "execution_count": 88,
   "id": "902e4007-c594-4c4c-974e-c73afe7fc1a4",
   "metadata": {},
   "outputs": [],
   "source": [
    "#f为需要进行最优化的函数,init_x是初始值,lr是学习率(learning rate) step_num是重复次数\n",
    "def gradient_descent(f,init_x,lr = 0.01,step_num = 100):\n",
    "    x = init_x\n",
    "#f为需要进行最优化的函数,init_x是初始值,lr是学习率(learning rate) step_num是重复次数\n",
    "def gradient_descent(f,init_x,lr = 0.01,step_num = 100):\n",
    "    x = init_x\n",
    "\n",
    "    for i in range(step_num):\n",
    "        grad = numerical_gradient(f,x)\n",
    "        x -= lr*grad\n",
    "    return x\n",
    "    for i in range(step_num):\n",
    "        grad = numerical_gradient(f,x)\n",
    "        x -= lr*grad\n",
    "    return x"
   ]
  },
  {
   "cell_type": "code",
   "execution_count": 90,
   "id": "c7f5ccb4-a246-4495-902a-a2d614dee905",
   "metadata": {},
   "outputs": [],
   "source": [
    "def function_2(x):\n",
    "    return x[0]**2 + x[1]**2"
   ]
  },
  {
   "cell_type": "code",
   "execution_count": 92,
   "id": "e8caddc4-348a-4f77-bac9-7f4fa795195b",
   "metadata": {},
   "outputs": [
    {
     "data": {
      "text/plain": [
       "array([-6.11110793e-10,  8.14814391e-10])"
      ]
     },
     "execution_count": 92,
     "metadata": {},
     "output_type": "execute_result"
    }
   ],
   "source": [
    "init_x = np.array([-3.0,4.0])\n",
    "gradient_descent(function_2,init_x = init_x,lr = 0.1,step_num = 100)"
   ]
  },
  {
   "cell_type": "code",
   "execution_count": 96,
   "id": "a60fbe9c-7167-44b9-b11e-78422c7ac2bd",
   "metadata": {},
   "outputs": [],
   "source": [
    "init_x = np.array([-3.0,4.0])"
   ]
  },
  {
   "cell_type": "code",
   "execution_count": 98,
   "id": "25736b17-6600-4698-96ec-d49807d49efc",
   "metadata": {},
   "outputs": [
    {
     "data": {
      "text/plain": [
       "array([-2.58983747e+13, -1.29524862e+12])"
      ]
     },
     "execution_count": 98,
     "metadata": {},
     "output_type": "execute_result"
    }
   ],
   "source": [
    "gradient_descent(function_2,init_x = init_x,lr = 10.0,step_num = 100)"
   ]
  },
  {
   "cell_type": "code",
   "execution_count": 104,
   "id": "1cb790af-47b8-48b1-a0b1-17409971eac7",
   "metadata": {},
   "outputs": [],
   "source": [
    "#上一次函数执行中,内部的x被修改了,需要再次进行初始化\n",
    "#python默认的数据类型是不可变类型,但是numpy是可变类型\n",
    "    #这里numpy类型中x与init_x默认共享内存且可变,如果x被改变,init_x也被改变,因为指向的内存地址不变\n",
    "    #int类型虽然可共享内存,但是只要变化后就指向不同地址(隐式copy)\n",
    "init_x = np.array([-3.0,4.0]) "
   ]
  },
  {
   "cell_type": "code",
   "execution_count": 106,
   "id": "497f506c-f4f5-4302-89bf-90517b3f72e3",
   "metadata": {},
   "outputs": [
    {
     "data": {
      "text/plain": [
       "array([-2.99999994,  3.99999992])"
      ]
     },
     "execution_count": 106,
     "metadata": {},
     "output_type": "execute_result"
    }
   ],
   "source": [
    "gradient_descent(function_2,init_x = init_x,lr = 1e-10 ,step_num = 100)"
   ]
  },
  {
   "cell_type": "code",
   "execution_count": null,
   "id": "54e1689c-a73c-4502-af59-ac2ac204ce6a",
   "metadata": {},
   "outputs": [],
   "source": []
  },
  {
   "cell_type": "code",
   "execution_count": 117,
   "id": "48e683c1-4f3c-4109-bbe5-47408568f508",
   "metadata": {},
   "outputs": [],
   "source": [
    "from gradient_simplenet import simpleNet"
   ]
  },
  {
   "cell_type": "code",
   "execution_count": 119,
   "id": "b24392ed-da76-4316-8deb-e3ef63d824fc",
   "metadata": {},
   "outputs": [],
   "source": [
    "net = simpleNet()"
   ]
  },
  {
   "cell_type": "code",
   "execution_count": 121,
   "id": "6a8827cb-d820-4890-945d-217b2e9bceb6",
   "metadata": {},
   "outputs": [
    {
     "name": "stdout",
     "output_type": "stream",
     "text": [
      "[[-0.34309591 -0.78257472  1.278547  ]\n",
      " [ 0.16058666  0.71405122 -0.60857042]]\n"
     ]
    }
   ],
   "source": [
    "print(net.W)"
   ]
  },
  {
   "cell_type": "code",
   "execution_count": 123,
   "id": "cb7895e0-3ced-433d-bcae-7b059240b677",
   "metadata": {},
   "outputs": [],
   "source": [
    "x = np.array([0.6,0.9])"
   ]
  },
  {
   "cell_type": "code",
   "execution_count": 125,
   "id": "3f3c5edd-d11c-4ee6-99d1-d6d7f6be0b80",
   "metadata": {},
   "outputs": [],
   "source": [
    "p = net.predict(x)"
   ]
  },
  {
   "cell_type": "code",
   "execution_count": 127,
   "id": "4d186730-504f-456a-a825-5988afa97670",
   "metadata": {},
   "outputs": [
    {
     "name": "stdout",
     "output_type": "stream",
     "text": [
      "[-0.06132955  0.17310127  0.21941482]\n"
     ]
    }
   ],
   "source": [
    "print(p)"
   ]
  },
  {
   "cell_type": "code",
   "execution_count": 129,
   "id": "09b41bd2-5b4c-479c-8aca-1a732f840509",
   "metadata": {},
   "outputs": [
    {
     "data": {
      "text/plain": [
       "2"
      ]
     },
     "execution_count": 129,
     "metadata": {},
     "output_type": "execute_result"
    }
   ],
   "source": [
    "np.argmax(p) #最大值索引)"
   ]
  },
  {
   "cell_type": "code",
   "execution_count": 131,
   "id": "e030c909-4345-4297-a75d-491f736f7194",
   "metadata": {},
   "outputs": [],
   "source": [
    "t = np.array([0,0,1]) #正确解的标签"
   ]
  },
  {
   "cell_type": "code",
   "execution_count": 133,
   "id": "205972dd-bf47-42a4-950c-d8874004aabf",
   "metadata": {},
   "outputs": [
    {
     "data": {
      "text/plain": [
       "0.9969350468854428"
      ]
     },
     "execution_count": 133,
     "metadata": {},
     "output_type": "execute_result"
    }
   ],
   "source": [
    "net.loss(x,t)"
   ]
  },
  {
   "cell_type": "code",
   "execution_count": 136,
   "id": "75b511ab-ade4-4dee-a780-d42fe4b7fb81",
   "metadata": {},
   "outputs": [],
   "source": [
    "def f(W):\n",
    "    return net.loss(x,t)"
   ]
  },
  {
   "cell_type": "code",
   "execution_count": 140,
   "id": "e05ecf6e-fd2f-4e59-899f-e3965fb76614",
   "metadata": {},
   "outputs": [
    {
     "ename": "IndexError",
     "evalue": "index 2 is out of bounds for axis 0 with size 2",
     "output_type": "error",
     "traceback": [
      "\u001b[0;31m---------------------------------------------------------------------------\u001b[0m",
      "\u001b[0;31mIndexError\u001b[0m                                Traceback (most recent call last)",
      "Cell \u001b[0;32mIn[140], line 1\u001b[0m\n\u001b[0;32m----> 1\u001b[0m dW \u001b[38;5;241m=\u001b[39m numerical_gradient(f,net\u001b[38;5;241m.\u001b[39mW)\n",
      "Cell \u001b[0;32mIn[79], line 6\u001b[0m, in \u001b[0;36mnumerical_gradient\u001b[0;34m(f, x)\u001b[0m\n\u001b[1;32m      3\u001b[0m grad \u001b[38;5;241m=\u001b[39m np\u001b[38;5;241m.\u001b[39mzeros_like(x) \u001b[38;5;66;03m#生成和x形状相同的0数组\u001b[39;00m\n\u001b[1;32m      5\u001b[0m \u001b[38;5;28;01mfor\u001b[39;00m idx \u001b[38;5;129;01min\u001b[39;00m \u001b[38;5;28mrange\u001b[39m(x\u001b[38;5;241m.\u001b[39msize):\n\u001b[0;32m----> 6\u001b[0m     tmp_val \u001b[38;5;241m=\u001b[39m x[idx]\n\u001b[1;32m      8\u001b[0m     x[idx] \u001b[38;5;241m=\u001b[39m tmp_val\u001b[38;5;241m+\u001b[39mh\n\u001b[1;32m      9\u001b[0m     fxh1 \u001b[38;5;241m=\u001b[39m f(x)\n",
      "\u001b[0;31mIndexError\u001b[0m: index 2 is out of bounds for axis 0 with size 2"
     ]
    }
   ],
   "source": [
    "dW = numerical_gradient(f,net.W) #需要在源代码中执行"
   ]
  },
  {
   "cell_type": "code",
   "execution_count": null,
   "id": "81f4be32-f946-4268-9436-389ecb175425",
   "metadata": {},
   "outputs": [],
   "source": []
  },
  {
   "cell_type": "code",
   "execution_count": 39,
   "id": "0acf046d-db37-49a1-9055-bffce842280b",
   "metadata": {},
   "outputs": [],
   "source": [
    "from two_layer_net import *\n",
    "import numpy as np"
   ]
  },
  {
   "cell_type": "code",
   "execution_count": 41,
   "id": "be2af056-aae4-4b4c-a430-907071569f32",
   "metadata": {},
   "outputs": [],
   "source": [
    "net = TwoLayerNet(input_size = 784,hidden_size = 100,output_size = 10)"
   ]
  },
  {
   "cell_type": "code",
   "execution_count": 43,
   "id": "54c6b2db-e7f1-4157-a996-8b9335f147a6",
   "metadata": {},
   "outputs": [
    {
     "data": {
      "text/plain": [
       "(784, 100)"
      ]
     },
     "execution_count": 43,
     "metadata": {},
     "output_type": "execute_result"
    }
   ],
   "source": [
    "net.params['W1'].shape"
   ]
  },
  {
   "cell_type": "code",
   "execution_count": 45,
   "id": "75118118-9c06-44a6-bfb2-666c045c85f2",
   "metadata": {},
   "outputs": [
    {
     "data": {
      "text/plain": [
       "(100,)"
      ]
     },
     "execution_count": 45,
     "metadata": {},
     "output_type": "execute_result"
    }
   ],
   "source": [
    "net.params['b1'].shape"
   ]
  },
  {
   "cell_type": "code",
   "execution_count": 47,
   "id": "3cd622a8-fdba-431a-91c5-4571a110dbc4",
   "metadata": {},
   "outputs": [
    {
     "data": {
      "text/plain": [
       "(100, 10)"
      ]
     },
     "execution_count": 47,
     "metadata": {},
     "output_type": "execute_result"
    }
   ],
   "source": [
    "net.params['W2'].shape"
   ]
  },
  {
   "cell_type": "code",
   "execution_count": 49,
   "id": "1f8893ec-4d28-4ea8-ab73-6775b2c129bb",
   "metadata": {},
   "outputs": [
    {
     "data": {
      "text/plain": [
       "(10,)"
      ]
     },
     "execution_count": 49,
     "metadata": {},
     "output_type": "execute_result"
    }
   ],
   "source": [
    "net.params['b2'].shape"
   ]
  },
  {
   "cell_type": "code",
   "execution_count": 51,
   "id": "7b0e1761-48b1-4d7f-afa9-d88215dbc123",
   "metadata": {},
   "outputs": [],
   "source": [
    "x = np.random.rand(100,784) #伪输入数据(100个)"
   ]
  },
  {
   "cell_type": "code",
   "execution_count": 55,
   "id": "64df1573-7924-4435-99ba-424a6b26cb80",
   "metadata": {},
   "outputs": [],
   "source": [
    "t = net.predict(x)"
   ]
  },
  {
   "cell_type": "code",
   "execution_count": 63,
   "id": "3e5078aa-7774-4d22-948d-05fbf5f23eff",
   "metadata": {},
   "outputs": [],
   "source": [
    "grads = net.numerical_gradient(x,t)"
   ]
  },
  {
   "cell_type": "code",
   "execution_count": 65,
   "id": "7c4eb92c-e1c2-4c2d-b7ef-547668919615",
   "metadata": {},
   "outputs": [
    {
     "data": {
      "text/plain": [
       "(784, 100)"
      ]
     },
     "execution_count": 65,
     "metadata": {},
     "output_type": "execute_result"
    }
   ],
   "source": [
    "grads['W1'].shape"
   ]
  },
  {
   "cell_type": "code",
   "execution_count": 69,
   "id": "1c3ae97d-f364-43b9-ba64-01cbae44ddf0",
   "metadata": {},
   "outputs": [
    {
     "data": {
      "text/plain": [
       "(100,)"
      ]
     },
     "execution_count": 69,
     "metadata": {},
     "output_type": "execute_result"
    }
   ],
   "source": [
    "grads['b1'].shape"
   ]
  },
  {
   "cell_type": "code",
   "execution_count": 71,
   "id": "700d59ee-bd87-4fa3-9b0e-a6049f76b25e",
   "metadata": {},
   "outputs": [
    {
     "data": {
      "text/plain": [
       "(100, 10)"
      ]
     },
     "execution_count": 71,
     "metadata": {},
     "output_type": "execute_result"
    }
   ],
   "source": [
    "grads['W2'].shape"
   ]
  },
  {
   "cell_type": "code",
   "execution_count": 73,
   "id": "49a3c6a6-2ee8-4e77-93fe-7435433d7d3d",
   "metadata": {},
   "outputs": [
    {
     "data": {
      "text/plain": [
       "(10,)"
      ]
     },
     "execution_count": 73,
     "metadata": {},
     "output_type": "execute_result"
    }
   ],
   "source": [
    "grads['b2'].shape"
   ]
  },
  {
   "cell_type": "code",
   "execution_count": 79,
   "id": "ca818b85-a80b-4686-b0ed-1991446a30ca",
   "metadata": {},
   "outputs": [
    {
     "data": {
      "text/plain": [
       "<function matplotlib.pyplot.show(close=None, block=None)>"
      ]
     },
     "execution_count": 79,
     "metadata": {},
     "output_type": "execute_result"
    },
    {
     "data": {
      "image/png": "[encoded data removed]",
      "text/plain": [
       "<Figure size 640x480 with 1 Axes>"
      ]
     },
     "metadata": {},
     "output_type": "display_data"
    }
   ],
   "source": [
    "import matplotlib.pyplot as plt\n",
    "train_loss_list = [0,1,2,2,5,1,2,3]\n",
    "plt.plot(train_loss_list)\n",
    "plt.show"
   ]
  },
  {
   "cell_type": "code",
   "execution_count": null,
   "id": "d8b7ba58-225a-434d-854a-69338ef350e9",
   "metadata": {},
   "outputs": [],
   "source": []
  }
 ],
 "metadata": {
  "kernelspec": {
   "display_name": "Python [conda env:base] *",
   "language": "python",
   "name": "conda-base-py"
  },
  "language_info": {
   "codemirror_mode": {
    "name": "ipython",
    "version": 3
   },
   "file_extension": ".py",
   "mimetype": "text/x-python",
   "name": "python",
   "nbconvert_exporter": "python",
   "pygments_lexer": "ipython3",
   "version": "3.12.11"
  }
 },
 "nbformat": 4,
 "nbformat_minor": 5
}
