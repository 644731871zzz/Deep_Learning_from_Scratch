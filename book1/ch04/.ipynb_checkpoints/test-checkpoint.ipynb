{
 "cells": [
  {
   "cell_type": "code",
   "execution_count": 5,
   "id": "f1eaba96-0bbc-4db6-bc67-cc001496f0bb",
   "metadata": {},
   "outputs": [],
   "source": [
    "import sys,os\n",
    "sys.path.append(os.pardir)\n",
    "import numpy as np\n",
    "from dataset.mnist import load_mnist"
   ]
  },
  {
   "cell_type": "code",
   "execution_count": 8,
   "id": "71c1d7f8-2e32-448f-8706-54470d5697f2",
   "metadata": {},
   "outputs": [],
   "source": [
    "#onehotlabel得到表示仅正确标签为1,其余为0的数据结构)\n",
    "(x_train,t_train),(x_test,t_test) = load_mnist(normalize = True,one_hot_label = True)"
   ]
  },
  {
   "cell_type": "code",
   "execution_count": 10,
   "id": "0064ca62-5ec3-434e-b53f-1d32536eb7ce",
   "metadata": {},
   "outputs": [
    {
     "name": "stdout",
     "output_type": "stream",
     "text": [
      "(60000, 784)\n"
     ]
    }
   ],
   "source": [
    "print(x_train.shape)"
   ]
  },
  {
   "cell_type": "code",
   "execution_count": 12,
   "id": "ee873fde-f61b-4ea8-8723-cef03b543cf6",
   "metadata": {},
   "outputs": [
    {
     "name": "stdout",
     "output_type": "stream",
     "text": [
      "(60000, 10)\n"
     ]
    }
   ],
   "source": [
    "print(t_train.shape)"
   ]
  },
  {
   "cell_type": "code",
   "execution_count": 14,
   "id": "64a9e17c-71b1-4da9-baa3-840df757b369",
   "metadata": {},
   "outputs": [],
   "source": [
    "#随机抽取10笔数据"
   ]
  },
  {
   "cell_type": "code",
   "execution_count": 20,
   "id": "d9c58513-d98e-4418-91e3-4887ad8ef704",
   "metadata": {},
   "outputs": [],
   "source": [
    "train_size = x_train.shape[0]\n",
    "batch_size = 10\n",
    "#指定数组中随机选择数字.\n",
    "    #参数中如果输入整数(不能给负数),则从0开始到整数-1随机抽取 参数2表示的个数 个数\n",
    "        #本质和下方一样生成[0,输入整数)范围的数组随机抽取\n",
    "    #第一个参数还可以输入一个列表,从列表中随机抽取个数.\n",
    "    #只有上述语法.如果想要一个指定范围,考虑将第一个参数配置成指定范围的列表进行抽取\n",
    "batch_mask = np.random.choice(train_size,batch_size)\n",
    "x_batch = x_train[batch_mask]\n",
    "t_batch = t_train[batch_mask]"
   ]
  },
  {
   "cell_type": "code",
   "execution_count": 22,
   "id": "db35f077-7e62-4570-9f5a-ac9bc9949695",
   "metadata": {},
   "outputs": [
    {
     "data": {
      "text/plain": [
       "array([15609,  4282, 41252, 57773, 25046, 30791,  3167, 43993, 14905,\n",
       "       34085])"
      ]
     },
     "execution_count": 22,
     "metadata": {},
     "output_type": "execute_result"
    }
   ],
   "source": [
    "np.random.choice(60000,10)"
   ]
  },
  {
   "cell_type": "code",
   "execution_count": null,
   "id": "177bece9-4e0b-4e92-967c-c6ed89ace67f",
   "metadata": {},
   "outputs": [],
   "source": []
  },
  {
   "cell_type": "code",
   "execution_count": 26,
   "id": "f46c2501-5721-463c-a58e-e4dba1a314db",
   "metadata": {},
   "outputs": [],
   "source": [
    "def cross_entropy_error(y,t):\n",
    "    if y.ndim == 1 :\n",
    "        #.size返回元素个数,这里将一维扩展为二维,一行,列数和之前一维元素个数相同.\n",
    "        #方便之后shape[0]正常统一提取行数,防止提取出一维中的个数,除以错误值\n",
    "        #reshape默认行优先,先行后列,从左到右 参数order = 'F'为列优先\n",
    "        t = t.reshape(1,t.size)\n",
    "        y = t.reshape(1,y.size)\n",
    "\n",
    "    batch_size = y.shape[0]\n",
    "    return -np.sum(t*np.log(y + 1e-7))/batch_size #适用于one-hot'监督数据"
   ]
  },
  {
   "cell_type": "code",
   "execution_count": 28,
   "id": "3d08b88e-0d1b-4c17-971f-f41deb489b1c",
   "metadata": {},
   "outputs": [],
   "source": [
    "def cross_entropy_error(y,t):\n",
    "    if y.ndim == 1:\n",
    "        t = t.reshape(1,t.size)\n",
    "        y = y.reshape(1,t.size)\n",
    "\n",
    "    batch_size = y.shape[0]\n",
    "    #这里不能用连续切片,因为t是不同类别索引,不是一个固定的值(非连续范围)取出对应行的对应列的元素\n",
    "    return -np.sum(np.log(y[np.arange(batch_size),t] + 1e-7)) / batch_size"
   ]
  },
  {
   "cell_type": "code",
   "execution_count": null,
   "id": "020d16cd-11d6-48aa-921b-d2fa55ffd1d3",
   "metadata": {},
   "outputs": [],
   "source": []
  }
 ],
 "metadata": {
  "kernelspec": {
   "display_name": "Python [conda env:base] *",
   "language": "python",
   "name": "conda-base-py"
  },
  "language_info": {
   "codemirror_mode": {
    "name": "ipython",
    "version": 3
   },
   "file_extension": ".py",
   "mimetype": "text/x-python",
   "name": "python",
   "nbconvert_exporter": "python",
   "pygments_lexer": "ipython3",
   "version": "3.12.11"
  }
 },
 "nbformat": 4,
 "nbformat_minor": 5
}
