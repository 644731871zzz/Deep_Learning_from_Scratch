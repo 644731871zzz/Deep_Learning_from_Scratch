{
 "cells": [
  {
   "cell_type": "code",
   "execution_count": 5,
   "id": "f1eaba96-0bbc-4db6-bc67-cc001496f0bb",
   "metadata": {},
   "outputs": [],
   "source": [
    "import sys,os\n",
    "sys.path.append(os.pardir)\n",
    "import numpy as np\n",
    "from dataset.mnist import load_mnist"
   ]
  },
  {
   "cell_type": "code",
   "execution_count": 8,
   "id": "71c1d7f8-2e32-448f-8706-54470d5697f2",
   "metadata": {},
   "outputs": [],
   "source": [
    "#onehotlabel得到表示仅正确标签为1,其余为0的数据结构)\n",
    "(x_train,t_train),(x_test,t_test) = load_mnist(normalize = True,one_hot_label = True)"
   ]
  },
  {
   "cell_type": "code",
   "execution_count": 10,
   "id": "0064ca62-5ec3-434e-b53f-1d32536eb7ce",
   "metadata": {},
   "outputs": [
    {
     "name": "stdout",
     "output_type": "stream",
     "text": [
      "(60000, 784)\n"
     ]
    }
   ],
   "source": [
    "print(x_train.shape)"
   ]
  },
  {
   "cell_type": "code",
   "execution_count": 12,
   "id": "ee873fde-f61b-4ea8-8723-cef03b543cf6",
   "metadata": {},
   "outputs": [
    {
     "name": "stdout",
     "output_type": "stream",
     "text": [
      "(60000, 10)\n"
     ]
    }
   ],
   "source": [
    "print(t_train.shape)"
   ]
  },
  {
   "cell_type": "code",
   "execution_count": 14,
   "id": "64a9e17c-71b1-4da9-baa3-840df757b369",
   "metadata": {},
   "outputs": [],
   "source": [
    "#随机抽取10笔数据"
   ]
  },
  {
   "cell_type": "code",
   "execution_count": 18,
   "id": "d9c58513-d98e-4418-91e3-4887ad8ef704",
   "metadata": {},
   "outputs": [],
   "source": [
    "train_size = x_train.shape[0]\n",
    "batch_size = 10\n",
    "#指定数组中随机选择数字.\n",
    "    #参数中如果输入整数(不能给负数),则从0开始到整数-1随机抽取 参数2表示的个数 个数\n",
    "        #本质和下方一样生成[0,输入整数)范围的数组随机抽取\n",
    "    #第一个参数还可以输入一个列表,从列表中随机抽取个数.\n",
    "    #只有上述语法.如果想要一个指定范围,考虑将第一个参数配置成指定范围的列表进行抽取\n",
    "batch_mask = np.random.choice(train_size,batch_size)\n",
    "x_batch = x_train[batch_mask]\n",
    "t_batch = t_train[batch_mask]"
   ]
  },
  {
   "cell_type": "code",
   "execution_count": null,
   "id": "db35f077-7e62-4570-9f5a-ac9bc9949695",
   "metadata": {},
   "outputs": [],
   "source": []
  }
 ],
 "metadata": {
  "kernelspec": {
   "display_name": "Python [conda env:base] *",
   "language": "python",
   "name": "conda-base-py"
  },
  "language_info": {
   "codemirror_mode": {
    "name": "ipython",
    "version": 3
   },
   "file_extension": ".py",
   "mimetype": "text/x-python",
   "name": "python",
   "nbconvert_exporter": "python",
   "pygments_lexer": "ipython3",
   "version": "3.12.11"
  }
 },
 "nbformat": 4,
 "nbformat_minor": 5
}
