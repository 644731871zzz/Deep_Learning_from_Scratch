{
 "cells": [
  {
   "cell_type": "code",
   "execution_count": 2,
   "id": "9220c73a-30e7-44c4-bc15-b0062edc5873",
   "metadata": {},
   "outputs": [],
   "source": [
    "import numpy as np"
   ]
  },
  {
   "cell_type": "code",
   "execution_count": 4,
   "id": "a5963186-fbe1-4b1f-94ec-b45ba580a59f",
   "metadata": {},
   "outputs": [],
   "source": [
    "x = np.array([[1.0,-0.5],\n",
    "              [-2.0,3.0]])"
   ]
  },
  {
   "cell_type": "code",
   "execution_count": 6,
   "id": "691ee4f1-f0b4-4793-9275-e1bec09ad84e",
   "metadata": {},
   "outputs": [
    {
     "name": "stdout",
     "output_type": "stream",
     "text": [
      "[[ 1.  -0.5]\n",
      " [-2.   3. ]]\n"
     ]
    }
   ],
   "source": [
    "print(x)"
   ]
  },
  {
   "cell_type": "code",
   "execution_count": 12,
   "id": "80b7e89f-ece2-4984-9659-6d9d49cb8c65",
   "metadata": {},
   "outputs": [],
   "source": [
    "mask = (x<=0)"
   ]
  },
  {
   "cell_type": "code",
   "execution_count": 14,
   "id": "19d3e6d5-784c-499f-8371-6e99f5348827",
   "metadata": {},
   "outputs": [
    {
     "data": {
      "text/plain": [
       "array([[False,  True],\n",
       "       [ True, False]])"
      ]
     },
     "execution_count": 14,
     "metadata": {},
     "output_type": "execute_result"
    }
   ],
   "source": [
    "mask"
   ]
  },
  {
   "cell_type": "code",
   "execution_count": null,
   "id": "3672dfdd-8884-4e94-8c58-55f6f4666c7f",
   "metadata": {},
   "outputs": [],
   "source": []
  }
 ],
 "metadata": {
  "kernelspec": {
   "display_name": "Python [conda env:base] *",
   "language": "python",
   "name": "conda-base-py"
  },
  "language_info": {
   "codemirror_mode": {
    "name": "ipython",
    "version": 3
   },
   "file_extension": ".py",
   "mimetype": "text/x-python",
   "name": "python",
   "nbconvert_exporter": "python",
   "pygments_lexer": "ipython3",
   "version": "3.12.11"
  }
 },
 "nbformat": 4,
 "nbformat_minor": 5
}
