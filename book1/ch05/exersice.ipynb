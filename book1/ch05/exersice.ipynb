{
 "cells": [
  {
   "cell_type": "code",
   "execution_count": 2,
   "id": "9220c73a-30e7-44c4-bc15-b0062edc5873",
   "metadata": {},
   "outputs": [],
   "source": [
    "import numpy as np"
   ]
  },
  {
   "cell_type": "code",
   "execution_count": 4,
   "id": "a5963186-fbe1-4b1f-94ec-b45ba580a59f",
   "metadata": {},
   "outputs": [],
   "source": [
    "x = np.array([[1.0,-0.5],\n",
    "              [-2.0,3.0]])"
   ]
  },
  {
   "cell_type": "code",
   "execution_count": 6,
   "id": "691ee4f1-f0b4-4793-9275-e1bec09ad84e",
   "metadata": {},
   "outputs": [
    {
     "name": "stdout",
     "output_type": "stream",
     "text": [
      "[[ 1.  -0.5]\n",
      " [-2.   3. ]]\n"
     ]
    }
   ],
   "source": [
    "print(x)"
   ]
  },
  {
   "cell_type": "code",
   "execution_count": 12,
   "id": "80b7e89f-ece2-4984-9659-6d9d49cb8c65",
   "metadata": {},
   "outputs": [],
   "source": [
    "mask = (x<=0)"
   ]
  },
  {
   "cell_type": "code",
   "execution_count": 14,
   "id": "19d3e6d5-784c-499f-8371-6e99f5348827",
   "metadata": {},
   "outputs": [
    {
     "data": {
      "text/plain": [
       "array([[False,  True],\n",
       "       [ True, False]])"
      ]
     },
     "execution_count": 14,
     "metadata": {},
     "output_type": "execute_result"
    }
   ],
   "source": [
    "mask"
   ]
  },
  {
   "cell_type": "code",
   "execution_count": 16,
   "id": "3672dfdd-8884-4e94-8c58-55f6f4666c7f",
   "metadata": {},
   "outputs": [
    {
     "data": {
      "text/plain": [
       "array([0.70089144, 0.69393553])"
      ]
     },
     "execution_count": 16,
     "metadata": {},
     "output_type": "execute_result"
    }
   ],
   "source": [
    "X = np.random.rand(2)\n",
    "X"
   ]
  },
  {
   "cell_type": "code",
   "execution_count": 18,
   "id": "7973baf8-4994-419e-8f35-c2fdc25343f7",
   "metadata": {},
   "outputs": [
    {
     "data": {
      "text/plain": [
       "array([[0.77063478, 0.80394214, 0.84202605],\n",
       "       [0.29474632, 0.64259225, 0.17157214]])"
      ]
     },
     "execution_count": 18,
     "metadata": {},
     "output_type": "execute_result"
    }
   ],
   "source": [
    "W = np.random.rand(2,3)\n",
    "W"
   ]
  },
  {
   "cell_type": "code",
   "execution_count": 20,
   "id": "84967a84-0adf-424b-9669-381754700ae1",
   "metadata": {},
   "outputs": [
    {
     "data": {
      "text/plain": [
       "array([0.48799979, 0.76199761, 0.59708647])"
      ]
     },
     "execution_count": 20,
     "metadata": {},
     "output_type": "execute_result"
    }
   ],
   "source": [
    "B = np.random.rand(3)\n",
    "B"
   ]
  },
  {
   "cell_type": "code",
   "execution_count": 22,
   "id": "c6fe639a-bfcf-4278-8910-10fe8401ba7c",
   "metadata": {},
   "outputs": [
    {
     "data": {
      "text/plain": [
       "(2,)"
      ]
     },
     "execution_count": 22,
     "metadata": {},
     "output_type": "execute_result"
    }
   ],
   "source": [
    "X.shape"
   ]
  },
  {
   "cell_type": "code",
   "execution_count": 24,
   "id": "5a3ba032-6bfd-46bd-9244-9f0e61a9a5ea",
   "metadata": {},
   "outputs": [
    {
     "data": {
      "text/plain": [
       "(2, 3)"
      ]
     },
     "execution_count": 24,
     "metadata": {},
     "output_type": "execute_result"
    }
   ],
   "source": [
    "W.shape"
   ]
  },
  {
   "cell_type": "code",
   "execution_count": 26,
   "id": "3adc6eda-2400-43e4-ad6b-c55442da038d",
   "metadata": {},
   "outputs": [
    {
     "data": {
      "text/plain": [
       "(3,)"
      ]
     },
     "execution_count": 26,
     "metadata": {},
     "output_type": "execute_result"
    }
   ],
   "source": [
    "B.shape"
   ]
  },
  {
   "cell_type": "code",
   "execution_count": 28,
   "id": "b17df700-e749-40ed-b981-f36b1eb9e7a6",
   "metadata": {},
   "outputs": [],
   "source": [
    "T = np.dot(X,W) + B"
   ]
  },
  {
   "cell_type": "code",
   "execution_count": 30,
   "id": "7736086a-ceb3-4fd3-8239-1c68563e240b",
   "metadata": {},
   "outputs": [
    {
     "data": {
      "text/plain": [
       "array([1.23266605, 1.77139138, 1.30631533])"
      ]
     },
     "execution_count": 30,
     "metadata": {},
     "output_type": "execute_result"
    }
   ],
   "source": [
    "T"
   ]
  },
  {
   "cell_type": "code",
   "execution_count": 32,
   "id": "3fae8a12-b22e-466c-9d69-630cec1a065b",
   "metadata": {},
   "outputs": [],
   "source": [
    "X_dot_W = np.array([[0,0,0],\n",
    "                    [10,10,10]])"
   ]
  },
  {
   "cell_type": "code",
   "execution_count": 34,
   "id": "7b29a934-348a-405a-8884-7f9f84a49d48",
   "metadata": {},
   "outputs": [],
   "source": [
    "B = np.array([1,2,3])"
   ]
  },
  {
   "cell_type": "code",
   "execution_count": 36,
   "id": "12084848-0993-430b-9184-53f9643d1595",
   "metadata": {},
   "outputs": [
    {
     "data": {
      "text/plain": [
       "array([[ 0,  0,  0],\n",
       "       [10, 10, 10]])"
      ]
     },
     "execution_count": 36,
     "metadata": {},
     "output_type": "execute_result"
    }
   ],
   "source": [
    "X_dot_W"
   ]
  },
  {
   "cell_type": "code",
   "execution_count": 38,
   "id": "72c40568-149a-468a-9e82-8031b13491bc",
   "metadata": {},
   "outputs": [
    {
     "data": {
      "text/plain": [
       "array([1, 2, 3])"
      ]
     },
     "execution_count": 38,
     "metadata": {},
     "output_type": "execute_result"
    }
   ],
   "source": [
    "B"
   ]
  },
  {
   "cell_type": "code",
   "execution_count": 40,
   "id": "1b223a34-b045-48f0-a9c9-b9d03ba00a32",
   "metadata": {},
   "outputs": [
    {
     "data": {
      "text/plain": [
       "array([[ 1,  2,  3],\n",
       "       [11, 12, 13]])"
      ]
     },
     "execution_count": 40,
     "metadata": {},
     "output_type": "execute_result"
    }
   ],
   "source": [
    "X_dot_W + B"
   ]
  },
  {
   "cell_type": "code",
   "execution_count": 44,
   "id": "c54071d0-988e-4321-b046-6e8151af35ba",
   "metadata": {},
   "outputs": [
    {
     "data": {
      "text/plain": [
       "array([[1, 2, 3],\n",
       "       [4, 5, 6]])"
      ]
     },
     "execution_count": 44,
     "metadata": {},
     "output_type": "execute_result"
    }
   ],
   "source": [
    "dY = np.array([[1,2,3],\n",
    "               [4,5,6]])\n",
    "dY"
   ]
  },
  {
   "cell_type": "code",
   "execution_count": 50,
   "id": "863a5b45-beed-404f-8095-8588dafc7879",
   "metadata": {},
   "outputs": [
    {
     "data": {
      "text/plain": [
       "array([5, 7, 9])"
      ]
     },
     "execution_count": 50,
     "metadata": {},
     "output_type": "execute_result"
    }
   ],
   "source": [
    "dB = np.sum(dY,axis = 0)\n",
    "dB"
   ]
  },
  {
   "cell_type": "code",
   "execution_count": null,
   "id": "338b2e9e-3279-4779-be8b-663e57cf5d48",
   "metadata": {},
   "outputs": [],
   "source": []
  }
 ],
 "metadata": {
  "kernelspec": {
   "display_name": "Python [conda env:base] *",
   "language": "python",
   "name": "conda-base-py"
  },
  "language_info": {
   "codemirror_mode": {
    "name": "ipython",
    "version": 3
   },
   "file_extension": ".py",
   "mimetype": "text/x-python",
   "name": "python",
   "nbconvert_exporter": "python",
   "pygments_lexer": "ipython3",
   "version": "3.12.11"
  }
 },
 "nbformat": 4,
 "nbformat_minor": 5
}
