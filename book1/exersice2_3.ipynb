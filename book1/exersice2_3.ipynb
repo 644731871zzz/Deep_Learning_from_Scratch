{
 "cells": [
  {
   "cell_type": "code",
   "execution_count": 1,
   "id": "5ec12266-3f51-4103-9de0-7887b4b57afc",
   "metadata": {},
   "outputs": [],
   "source": [
    "def AND(x1,x2):\n",
    "    w1,w2,theta = 0.5,0.5,0.7 #配置参数和阈值\n",
    "    tmp = x1*w1 + x2*w2\n",
    "    if tmp <=theta:\n",
    "        return 0 \n",
    "    if tmp > theta:\n",
    "        return 1"
   ]
  },
  {
   "cell_type": "code",
   "execution_count": 7,
   "id": "b188c044-c206-4008-bdfa-13a6538dca3a",
   "metadata": {},
   "outputs": [
    {
     "data": {
      "text/plain": [
       "0"
      ]
     },
     "execution_count": 7,
     "metadata": {},
     "output_type": "execute_result"
    }
   ],
   "source": [
    "AND(0,0)"
   ]
  },
  {
   "cell_type": "code",
   "execution_count": 9,
   "id": "86203e53-a801-4b44-aab4-06b56c07285c",
   "metadata": {},
   "outputs": [
    {
     "data": {
      "text/plain": [
       "0"
      ]
     },
     "execution_count": 9,
     "metadata": {},
     "output_type": "execute_result"
    }
   ],
   "source": [
    "AND(1,0)"
   ]
  },
  {
   "cell_type": "code",
   "execution_count": 11,
   "id": "16d79772-e890-46f3-9b96-6d16a6d5077a",
   "metadata": {},
   "outputs": [
    {
     "data": {
      "text/plain": [
       "0"
      ]
     },
     "execution_count": 11,
     "metadata": {},
     "output_type": "execute_result"
    }
   ],
   "source": [
    "AND(0,1)"
   ]
  },
  {
   "cell_type": "code",
   "execution_count": 13,
   "id": "e8864e2c-481f-433e-b572-0f338bd81972",
   "metadata": {},
   "outputs": [
    {
     "data": {
      "text/plain": [
       "1"
      ]
     },
     "execution_count": 13,
     "metadata": {},
     "output_type": "execute_result"
    }
   ],
   "source": [
    "AND(1,1)"
   ]
  },
  {
   "cell_type": "code",
   "execution_count": null,
   "id": "af08ccb0-5734-43d1-b33b-2019d4c00ff5",
   "metadata": {},
   "outputs": [],
   "source": []
  }
 ],
 "metadata": {
  "kernelspec": {
   "display_name": "Python [conda env:base] *",
   "language": "python",
   "name": "conda-base-py"
  },
  "language_info": {
   "codemirror_mode": {
    "name": "ipython",
    "version": 3
   },
   "file_extension": ".py",
   "mimetype": "text/x-python",
   "name": "python",
   "nbconvert_exporter": "python",
   "pygments_lexer": "ipython3",
   "version": "3.12.7"
  }
 },
 "nbformat": 4,
 "nbformat_minor": 5
}
